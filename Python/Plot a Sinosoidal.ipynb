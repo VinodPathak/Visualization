"""
How to Use Jupyter Widgets
https://ipywidgets.readthedocs.io/en/stable/examples/Widget%20List.html
https://blog.dominodatalab.com/interactive-dashboards-in-jupyter/
"""
import numpy as np
# bug manifests when using both TkAgg and toolmanager

import matplotlib.pyplot as plt
import ipywidgets as widgets

val = widgets.BoundedIntText(
    value=input(),
    min=0,
    max=10,
    step=1,
    description='Text:',
    disabled=False
)
Fs = 8000
f = val.value
sample = 8000 * f
plt.figure(figsize=(20,8))
x = np.arange(sample)
y = np.sin(2 * np.pi * f * x / Fs)
plt.plot(x, y)
plt.show()
